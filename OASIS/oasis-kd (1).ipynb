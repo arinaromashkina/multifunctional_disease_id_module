{
 "cells": [
  {
   "cell_type": "code",
   "execution_count": 24,
   "metadata": {
    "execution": {
     "iopub.execute_input": "2024-04-22T09:36:19.951654Z",
     "iopub.status.busy": "2024-04-22T09:36:19.951341Z",
     "iopub.status.idle": "2024-04-22T09:36:19.959744Z",
     "shell.execute_reply": "2024-04-22T09:36:19.958821Z",
     "shell.execute_reply.started": "2024-04-22T09:36:19.951627Z"
    }
   },
   "outputs": [],
   "source": [
    "import torch\n",
    "import torch.nn as nn\n",
    "import segmentation_models_pytorch as smp\n",
    "import seaborn as sns\n",
    "import numpy as np\n",
    "import pandas as pd\n",
    "import matplotlib.pyplot as plt\n",
    "import os\n",
    "import glob\n",
    "import torch.nn as nn\n",
    "from torchvision.transforms import transforms\n",
    "from torch.utils.data import DataLoader\n",
    "from torch.optim import AdamW\n",
    "from torch.autograd import Variable\n",
    "import torchvision\n",
    "import pathlib\n",
    "from sklearn.metrics import accuracy_score\n",
    "import matplotlib.pyplot as plt\n",
    "import numpy as np\n",
    "import torch\n",
    "import torchvision\n",
    "from IPython.display import clear_output\n",
    "from torch import nn, optim\n",
    "from torchvision import transforms\n",
    "from torchvision.datasets import ImageFolder"
   ]
  },
  {
   "cell_type": "code",
   "execution_count": 25,
   "metadata": {
    "execution": {
     "iopub.execute_input": "2024-04-22T09:36:21.515008Z",
     "iopub.status.busy": "2024-04-22T09:36:21.514591Z",
     "iopub.status.idle": "2024-04-22T09:36:21.522386Z",
     "shell.execute_reply": "2024-04-22T09:36:21.521347Z",
     "shell.execute_reply.started": "2024-04-22T09:36:21.514974Z"
    }
   },
   "outputs": [
    {
     "data": {
      "text/plain": [
       "'cuda'"
      ]
     },
     "execution_count": 25,
     "metadata": {},
     "output_type": "execute_result"
    }
   ],
   "source": [
    "import torch\n",
    "device = \"cuda\" if torch.cuda.is_available() else \"cpu\"\n",
    "device"
   ]
  },
  {
   "cell_type": "code",
   "execution_count": 26,
   "metadata": {
    "execution": {
     "iopub.execute_input": "2024-04-22T09:36:23.119295Z",
     "iopub.status.busy": "2024-04-22T09:36:23.118901Z",
     "iopub.status.idle": "2024-04-22T09:36:23.123653Z",
     "shell.execute_reply": "2024-04-22T09:36:23.122789Z",
     "shell.execute_reply.started": "2024-04-22T09:36:23.119266Z"
    }
   },
   "outputs": [],
   "source": [
    "train_path = '/kaggle/input/oasis-brain/TRAIN/TRAIN/'\n",
    "test_path = '/kaggle/input/oasis-brain/TEST/TEST/test/'"
   ]
  },
  {
   "cell_type": "code",
   "execution_count": 27,
   "metadata": {
    "execution": {
     "iopub.execute_input": "2024-04-22T09:36:24.998334Z",
     "iopub.status.busy": "2024-04-22T09:36:24.997996Z",
     "iopub.status.idle": "2024-04-22T09:36:25.004281Z",
     "shell.execute_reply": "2024-04-22T09:36:25.002973Z",
     "shell.execute_reply.started": "2024-04-22T09:36:24.998309Z"
    }
   },
   "outputs": [],
   "source": [
    "transform = transforms.Compose([\n",
    "    transforms.Resize((224, 224)),\n",
    "    transforms.ToTensor(),\n",
    "    transforms.Normalize(mean=[0.485, 0.456, 0.406], std=[0.229, 0.224, 0.225])\n",
    "])"
   ]
  },
  {
   "cell_type": "code",
   "execution_count": 45,
   "metadata": {
    "execution": {
     "iopub.execute_input": "2024-04-22T10:51:08.075794Z",
     "iopub.status.busy": "2024-04-22T10:51:08.074910Z",
     "iopub.status.idle": "2024-04-22T10:52:31.099787Z",
     "shell.execute_reply": "2024-04-22T10:52:31.098756Z",
     "shell.execute_reply.started": "2024-04-22T10:51:08.075764Z"
    }
   },
   "outputs": [],
   "source": [
    "train_loader=DataLoader(\n",
    "    torchvision.datasets.ImageFolder(train_path,transform=transform),\n",
    "    batch_size=32, shuffle=True,\n",
    ")\n",
    "test_loader=DataLoader(\n",
    "    torchvision.datasets.ImageFolder(test_path,transform=transform),\n",
    "    batch_size=32, shuffle=True\n",
    ")"
   ]
  },
  {
   "cell_type": "code",
   "execution_count": 29,
   "metadata": {
    "execution": {
     "iopub.execute_input": "2024-04-22T09:37:56.891928Z",
     "iopub.status.busy": "2024-04-22T09:37:56.891490Z",
     "iopub.status.idle": "2024-04-22T09:37:56.900766Z",
     "shell.execute_reply": "2024-04-22T09:37:56.899897Z",
     "shell.execute_reply.started": "2024-04-22T09:37:56.891895Z"
    }
   },
   "outputs": [],
   "source": [
    "def train(model, train_loader, epochs, learning_rate, device):\n",
    "    criterion = nn.CrossEntropyLoss()\n",
    "    optimizer = optim.AdamW(model.parameters(), lr=learning_rate)\n",
    "\n",
    "    model.train()\n",
    "    correct = 0\n",
    "    total = 0\n",
    "\n",
    "    for epoch in range(epochs):\n",
    "        running_loss = 0.0\n",
    "        for inputs, labels in train_loader:\n",
    "            # inputs: A collection of batch_size images\n",
    "            # labels: A vector of dimensionality batch_size with integers denoting class of each image\n",
    "            inputs, labels = inputs.to(device), labels.to(device)\n",
    "\n",
    "            optimizer.zero_grad()\n",
    "            outputs = model(inputs)\n",
    "            _, predicted = torch.max(outputs.data, 1)\n",
    "            total += labels.size(0)\n",
    "            correct += (predicted == labels).sum().item()\n",
    "\n",
    "            # outputs: Output of the network for the collection of images. A tensor of dimensionality batch_size x num_classes\n",
    "            # labels: The actual labels of the images. Vector of dimensionality batch_size\n",
    "            loss = criterion(outputs, labels)\n",
    "            loss.backward()\n",
    "            optimizer.step()\n",
    "\n",
    "            running_loss += loss.item()\n",
    "        accuracy = 100 * correct / total\n",
    "        print(f\"Epoch {epoch+1}/{epochs}, Loss: {running_loss / len(train_loader)}, Train Accuracy: {accuracy:.2f}%\")"
   ]
  },
  {
   "cell_type": "code",
   "execution_count": 30,
   "metadata": {
    "execution": {
     "iopub.execute_input": "2024-04-22T09:37:56.902629Z",
     "iopub.status.busy": "2024-04-22T09:37:56.902052Z",
     "iopub.status.idle": "2024-04-22T09:37:56.925361Z",
     "shell.execute_reply": "2024-04-22T09:37:56.924541Z",
     "shell.execute_reply.started": "2024-04-22T09:37:56.902597Z"
    }
   },
   "outputs": [],
   "source": [
    "def test(model, test_loader, device):\n",
    "    model.to(device)\n",
    "    model.eval()\n",
    "\n",
    "    correct = 0\n",
    "    total = 0\n",
    "\n",
    "    with torch.no_grad():\n",
    "        for inputs, labels in test_loader:\n",
    "            inputs, labels = inputs.to(device), labels.to(device)\n",
    "\n",
    "            outputs = model(inputs)\n",
    "            _, predicted = torch.max(outputs.data, 1)\n",
    "\n",
    "            total += labels.size(0)\n",
    "            correct += (predicted == labels).sum().item()\n",
    "\n",
    "    accuracy = 100 * correct / total\n",
    "    print(f\"Test Accuracy: {accuracy:.2f}%\")\n",
    "    return accuracy"
   ]
  },
  {
   "cell_type": "markdown",
   "metadata": {},
   "source": [
    "My model"
   ]
  },
  {
   "cell_type": "code",
   "execution_count": 40,
   "metadata": {
    "execution": {
     "iopub.execute_input": "2024-04-22T10:26:14.493168Z",
     "iopub.status.busy": "2024-04-22T10:26:14.492439Z",
     "iopub.status.idle": "2024-04-22T10:26:14.502360Z",
     "shell.execute_reply": "2024-04-22T10:26:14.501247Z",
     "shell.execute_reply.started": "2024-04-22T10:26:14.493136Z"
    }
   },
   "outputs": [],
   "source": [
    "class ConvNet(nn.Module):\n",
    "    def __init__(self, num_classes):\n",
    "        super(ConvNet, self).__init__()\n",
    "        self.conv1 = nn.Sequential(\n",
    "            nn.Conv2d(in_channels=3, out_channels=8, kernel_size=3),\n",
    "            nn.ReLU(),\n",
    "\n",
    "            nn.MaxPool2d(kernel_size=2),\n",
    "        )\n",
    "        self.conv2 = nn.Sequential(\n",
    "            nn.Conv2d(in_channels=8, out_channels=16, kernel_size=3),\n",
    "            nn.BatchNorm2d(16),\n",
    "            nn.ReLU(),\n",
    "            nn.MaxPool2d(kernel_size=2)\n",
    "        )\n",
    "        self.conv3 = nn.Sequential(\n",
    "            nn.Conv2d(in_channels=16, out_channels=32, kernel_size=3),\n",
    "            nn.BatchNorm2d(32),\n",
    "            nn.ReLU(),\n",
    "            nn.MaxPool2d(kernel_size=2)\n",
    "        )\n",
    "        self.fc = nn.Linear(32 * 26 * 26, num_classes)\n",
    "        # self.lsm = nn.LogSoftmax(dim=1)\n",
    "\n",
    "    def forward(self, x):\n",
    "        out = self.conv1(x)\n",
    "        out = self.conv2(out)\n",
    "        out = self.conv3(out)\n",
    "        out = out.view(x.size(0), -1)\n",
    "        out = self.fc(out)\n",
    "        # out = self.lsm(out)\n",
    "        return out"
   ]
  },
  {
   "cell_type": "code",
   "execution_count": 41,
   "metadata": {
    "execution": {
     "iopub.execute_input": "2024-04-22T10:26:19.331549Z",
     "iopub.status.busy": "2024-04-22T10:26:19.330838Z",
     "iopub.status.idle": "2024-04-22T10:35:22.542292Z",
     "shell.execute_reply": "2024-04-22T10:35:22.541212Z",
     "shell.execute_reply.started": "2024-04-22T10:26:19.331518Z"
    }
   },
   "outputs": [
    {
     "name": "stdout",
     "output_type": "stream",
     "text": [
      "Epoch 1/1, Loss: 0.23554258649380178, Train Accuracy: 92.53%\n",
      "Test Accuracy: 70.61%\n"
     ]
    }
   ],
   "source": [
    "model = ConvNet(num_classes=4).to(device)\n",
    "train(model, train_loader, epochs=1, learning_rate=0.001, device=device)\n",
    "test_accuracy_light_ce = test(model, test_loader, device)"
   ]
  },
  {
   "cell_type": "code",
   "execution_count": 12,
   "metadata": {
    "execution": {
     "iopub.execute_input": "2024-04-21T15:19:03.128618Z",
     "iopub.status.busy": "2024-04-21T15:19:03.128224Z",
     "iopub.status.idle": "2024-04-21T15:19:03.139038Z",
     "shell.execute_reply": "2024-04-21T15:19:03.138107Z",
     "shell.execute_reply.started": "2024-04-21T15:19:03.128588Z"
    }
   },
   "outputs": [],
   "source": [
    "torch.save(model.state_dict(), '/kaggle/working/convnet.pth')"
   ]
  },
  {
   "cell_type": "markdown",
   "metadata": {},
   "source": [
    "Trial 2 finished with value: 63.4375 and parameters: {'n_layers': 5, '0 layer output channel': 16, '1 layer output channel': 29, '2 layer output channel': 36, '3 layer output channel': 45, '4 layer output channel': 64, 'lr': 5.973592490223275e-05}. Best is trial 2 with value: 63.4375."
   ]
  },
  {
   "cell_type": "code",
   "execution_count": 43,
   "metadata": {
    "execution": {
     "iopub.execute_input": "2024-04-22T10:36:45.339658Z",
     "iopub.status.busy": "2024-04-22T10:36:45.339266Z",
     "iopub.status.idle": "2024-04-22T10:36:45.351629Z",
     "shell.execute_reply": "2024-04-22T10:36:45.350699Z",
     "shell.execute_reply.started": "2024-04-22T10:36:45.339628Z"
    }
   },
   "outputs": [],
   "source": [
    "class ConvNet_1(nn.Module):\n",
    "    def __init__(self, num_classes):\n",
    "        super(ConvNet_1, self).__init__()\n",
    "        self.conv1 = nn.Sequential(\n",
    "            nn.Conv2d(in_channels=3, out_channels=16, kernel_size=3),\n",
    "            nn.ReLU(),\n",
    "            nn.MaxPool2d(kernel_size=2),\n",
    "        )\n",
    "        self.conv2 = nn.Sequential(\n",
    "            nn.Conv2d(in_channels=16, out_channels=36, kernel_size=3),\n",
    "            nn.BatchNorm2d(36),\n",
    "            nn.ReLU(),\n",
    "            nn.MaxPool2d(kernel_size=2)\n",
    "        )\n",
    "        self.conv3 = nn.Sequential(\n",
    "            nn.Conv2d(in_channels=36, out_channels=45, kernel_size=3),\n",
    "            nn.BatchNorm2d(45),\n",
    "            nn.ReLU(),\n",
    "            nn.MaxPool2d(kernel_size=2)\n",
    "        )\n",
    "        self.conv4 = nn.Sequential(\n",
    "            nn.Conv2d(in_channels=45, out_channels=64, kernel_size=3),\n",
    "            nn.BatchNorm2d(64),\n",
    "            nn.ReLU(),\n",
    "            nn.MaxPool2d(kernel_size=2)\n",
    "        )\n",
    "        self.fc = nn.Linear(64*12*12, num_classes)\n",
    "        #self.lsm = nn.LogSoftmax(dim=1)\n",
    "\n",
    "    def forward(self, x):\n",
    "        out = self.conv1(x)\n",
    "        out = self.conv2(out)\n",
    "        out = self.conv3(out)\n",
    "        out = self.conv4(out)\n",
    "        out = out.view(x.size(0), -1)\n",
    "        out = self.fc(out)\n",
    "        #out = self.lsm(out)\n",
    "        return out"
   ]
  },
  {
   "cell_type": "code",
   "execution_count": 46,
   "metadata": {
    "execution": {
     "iopub.execute_input": "2024-04-22T10:52:31.101644Z",
     "iopub.status.busy": "2024-04-22T10:52:31.101349Z",
     "iopub.status.idle": "2024-04-22T11:01:44.893819Z",
     "shell.execute_reply": "2024-04-22T11:01:44.892802Z",
     "shell.execute_reply.started": "2024-04-22T10:52:31.101620Z"
    }
   },
   "outputs": [
    {
     "name": "stdout",
     "output_type": "stream",
     "text": [
      "Epoch 1/1, Loss: 0.27498661869873875, Train Accuracy: 90.31%\n",
      "Test Accuracy: 69.66%\n"
     ]
    }
   ],
   "source": [
    "model1 = ConvNet_1(num_classes=4).to(device)\n",
    "train(model1, train_loader, epochs=1, learning_rate=5.973592490223275e-05, device=device)\n",
    "test_accuracy_light_ce = test(model1, test_loader, device)"
   ]
  },
  {
   "cell_type": "code",
   "execution_count": 15,
   "metadata": {
    "execution": {
     "iopub.execute_input": "2024-04-21T15:25:35.472378Z",
     "iopub.status.busy": "2024-04-21T15:25:35.472091Z",
     "iopub.status.idle": "2024-04-21T15:25:35.480464Z",
     "shell.execute_reply": "2024-04-21T15:25:35.479602Z",
     "shell.execute_reply.started": "2024-04-21T15:25:35.472355Z"
    }
   },
   "outputs": [],
   "source": [
    "torch.save(model1.state_dict(), '/kaggle/working/convnet_1.pth')"
   ]
  },
  {
   "cell_type": "markdown",
   "metadata": {},
   "source": [
    "Trial 7 finished with value: 62.1875 and parameters: {'n_layers': 3, '0 layer output channel': 22, '1 layer output channel': 34, '2 layer output channel': 48, 'lr': 0.003775760161262146}. Best is trial 7 with value: 62.1875."
   ]
  },
  {
   "cell_type": "code",
   "execution_count": 20,
   "metadata": {
    "execution": {
     "iopub.execute_input": "2024-04-16T09:55:41.275844Z",
     "iopub.status.busy": "2024-04-16T09:55:41.275519Z",
     "iopub.status.idle": "2024-04-16T09:55:41.298437Z",
     "shell.execute_reply": "2024-04-16T09:55:41.297543Z",
     "shell.execute_reply.started": "2024-04-16T09:55:41.275812Z"
    }
   },
   "outputs": [],
   "source": [
    "class ConvNet_2(nn.Module):\n",
    "    def __init__(self, num_classes):\n",
    "        super(ConvNet_2, self).__init__()\n",
    "        self.conv1 = nn.Sequential(\n",
    "            nn.Conv2d(in_channels=3, out_channels=22, kernel_size=3),\n",
    "            nn.ReLU(),\n",
    "            nn.MaxPool2d(kernel_size=2),\n",
    "        )\n",
    "        self.conv2 = nn.Sequential(\n",
    "            nn.Conv2d(in_channels=22, out_channels=34, kernel_size=3),\n",
    "            nn.BatchNorm2d(34),\n",
    "            nn.ReLU(),\n",
    "            nn.MaxPool2d(kernel_size=2)\n",
    "        )\n",
    "        self.conv3 = nn.Sequential(\n",
    "            nn.Conv2d(in_channels=34, out_channels=48, kernel_size=3),\n",
    "            nn.BatchNorm2d(48),\n",
    "            nn.ReLU(),\n",
    "            nn.MaxPool2d(kernel_size=2)\n",
    "        )\n",
    "        \n",
    "        self.fc = nn.Linear(48*26*26, num_classes)\n",
    "        #self.lsm = nn.LogSoftmax(dim=1)\n",
    "\n",
    "    def forward(self, x):\n",
    "        out = self.conv1(x)\n",
    "        out = self.conv2(out)\n",
    "        out = self.conv3(out)\n",
    "        out = out.view(x.size(0), -1)\n",
    "        out = self.fc(out)\n",
    "        #out = self.lsm(out)\n",
    "        return out"
   ]
  },
  {
   "cell_type": "code",
   "execution_count": 21,
   "metadata": {
    "execution": {
     "iopub.execute_input": "2024-04-16T09:55:41.301049Z",
     "iopub.status.busy": "2024-04-16T09:55:41.300664Z",
     "iopub.status.idle": "2024-04-16T10:03:19.124272Z",
     "shell.execute_reply": "2024-04-16T10:03:19.123227Z",
     "shell.execute_reply.started": "2024-04-16T09:55:41.300987Z"
    }
   },
   "outputs": [
    {
     "name": "stdout",
     "output_type": "stream",
     "text": [
      "Epoch 1/1, Loss: 0.4767655500499866, Train Accuracy: 90.26%\n",
      "Test Accuracy: 66.33%\n"
     ]
    }
   ],
   "source": [
    "model2 = ConvNet_2(num_classes=4).to(device)\n",
    "train(model2, train_loader, epochs=1, learning_rate=0.003775760161262146, device=device)\n",
    "test_accuracy_light_ce = test(model2, test_loader, device)"
   ]
  },
  {
   "cell_type": "code",
   "execution_count": 22,
   "metadata": {
    "execution": {
     "iopub.execute_input": "2024-04-16T10:03:19.125811Z",
     "iopub.status.busy": "2024-04-16T10:03:19.125519Z",
     "iopub.status.idle": "2024-04-16T10:03:19.134405Z",
     "shell.execute_reply": "2024-04-16T10:03:19.133539Z",
     "shell.execute_reply.started": "2024-04-16T10:03:19.125785Z"
    }
   },
   "outputs": [],
   "source": [
    "torch.save(model2.state_dict(), '/kaggle/working/convnet_2.pth')"
   ]
  },
  {
   "cell_type": "code",
   "execution_count": null,
   "metadata": {},
   "outputs": [],
   "source": [
    "Видим, что наилучший результат у model"
   ]
  },
  {
   "cell_type": "code",
   "execution_count": 35,
   "metadata": {
    "execution": {
     "iopub.execute_input": "2024-04-22T10:11:18.562135Z",
     "iopub.status.busy": "2024-04-22T10:11:18.561311Z",
     "iopub.status.idle": "2024-04-22T10:11:18.571464Z",
     "shell.execute_reply": "2024-04-22T10:11:18.570444Z",
     "shell.execute_reply.started": "2024-04-22T10:11:18.562107Z"
    }
   },
   "outputs": [],
   "source": [
    "class ConvNet_best(nn.Module):\n",
    "    def __init__(self, num_classes):\n",
    "        super(ConvNet_best, self).__init__()\n",
    "        self.conv1 = nn.Sequential(\n",
    "            nn.Conv2d(in_channels=3, out_channels=8, kernel_size=3),\n",
    "            nn.ReLU(),\n",
    "\n",
    "            nn.MaxPool2d(kernel_size=2),\n",
    "        )\n",
    "        self.conv2 = nn.Sequential(\n",
    "            nn.Conv2d(in_channels=8, out_channels=16, kernel_size=3),\n",
    "            nn.BatchNorm2d(16),\n",
    "            nn.ReLU(),\n",
    "            nn.MaxPool2d(kernel_size=2)\n",
    "        )\n",
    "        self.conv3 = nn.Sequential(\n",
    "            nn.Conv2d(in_channels=16, out_channels=32, kernel_size=3),\n",
    "            nn.BatchNorm2d(32),\n",
    "            nn.ReLU(),\n",
    "            nn.MaxPool2d(kernel_size=2)\n",
    "        )\n",
    "        self.fc = nn.Linear(32 * 26 * 26, num_classes)\n",
    "        # self.lsm = nn.LogSoftmax(dim=1)\n",
    "\n",
    "    def forward(self, x):\n",
    "        out = self.conv1(x)\n",
    "        out = self.conv2(out)\n",
    "        out = self.conv3(out)\n",
    "        out = out.view(x.size(0), -1)\n",
    "        out = self.fc(out)\n",
    "        # out = self.lsm(out)\n",
    "        return out"
   ]
  },
  {
   "cell_type": "code",
   "execution_count": 31,
   "metadata": {
    "execution": {
     "iopub.execute_input": "2024-04-22T09:37:56.928410Z",
     "iopub.status.busy": "2024-04-22T09:37:56.927640Z",
     "iopub.status.idle": "2024-04-22T09:37:56.936722Z",
     "shell.execute_reply": "2024-04-22T09:37:56.935992Z",
     "shell.execute_reply.started": "2024-04-22T09:37:56.928377Z"
    }
   },
   "outputs": [],
   "source": [
    "class ClassificationUnet(nn.Module):\n",
    "    def __init__(self, num_classes):\n",
    "        super(ClassificationUnet, self).__init__()\n",
    "        self.unet = smp.Unet(encoder_name=\"efficientnet-b0\",\n",
    "                             encoder_weights='imagenet',\n",
    "                             in_channels=3,\n",
    "                             classes=num_classes)\n",
    "\n",
    "    def forward(self, x):\n",
    "        out = self.unet(x)\n",
    "        out = torch.mean(out, dim=(2, 3))\n",
    "        return out"
   ]
  },
  {
   "cell_type": "code",
   "execution_count": 32,
   "metadata": {
    "execution": {
     "iopub.execute_input": "2024-04-22T09:37:56.938233Z",
     "iopub.status.busy": "2024-04-22T09:37:56.937900Z",
     "iopub.status.idle": "2024-04-22T10:01:16.617679Z",
     "shell.execute_reply": "2024-04-22T10:01:16.615125Z",
     "shell.execute_reply.started": "2024-04-22T09:37:56.938209Z"
    }
   },
   "outputs": [
    {
     "name": "stdout",
     "output_type": "stream",
     "text": [
      "Epoch 1/1, Loss: 0.2111385543391096, Train Accuracy: 92.04%\n",
      "Test Accuracy: 71.88%\n"
     ]
    }
   ],
   "source": [
    "nn_deep = ClassificationUnet(num_classes=4).to(device)\n",
    "#nn_deep.load_state_dict(torch.load('/kaggle/input/deep_my/pytorch/deep_my/1/nn_deep.pth', map_location=torch.device('cuda')))\n",
    "train(nn_deep, train_loader, epochs=1, learning_rate=0.001, device=device)\n",
    "test_accuracy_deep = test(nn_deep, test_loader, device)"
   ]
  },
  {
   "cell_type": "code",
   "execution_count": 33,
   "metadata": {
    "execution": {
     "iopub.execute_input": "2024-04-22T10:10:43.301929Z",
     "iopub.status.busy": "2024-04-22T10:10:43.300499Z",
     "iopub.status.idle": "2024-04-22T10:10:43.385104Z",
     "shell.execute_reply": "2024-04-22T10:10:43.384253Z",
     "shell.execute_reply.started": "2024-04-22T10:10:43.301886Z"
    }
   },
   "outputs": [],
   "source": [
    "torch.save(nn_deep.state_dict(), '/kaggle/working/nn_deep_2.pth')"
   ]
  },
  {
   "cell_type": "code",
   "execution_count": 36,
   "metadata": {
    "execution": {
     "iopub.execute_input": "2024-04-22T10:11:22.133691Z",
     "iopub.status.busy": "2024-04-22T10:11:22.133002Z",
     "iopub.status.idle": "2024-04-22T10:11:22.142791Z",
     "shell.execute_reply": "2024-04-22T10:11:22.141999Z",
     "shell.execute_reply.started": "2024-04-22T10:11:22.133658Z"
    }
   },
   "outputs": [],
   "source": [
    "torch.manual_seed(42)\n",
    "new_nn_light = ConvNet_best(num_classes=4).to(device)"
   ]
  },
  {
   "cell_type": "code",
   "execution_count": 37,
   "metadata": {
    "execution": {
     "iopub.execute_input": "2024-04-22T10:11:24.481136Z",
     "iopub.status.busy": "2024-04-22T10:11:24.480047Z",
     "iopub.status.idle": "2024-04-22T10:11:24.488174Z",
     "shell.execute_reply": "2024-04-22T10:11:24.487278Z",
     "shell.execute_reply.started": "2024-04-22T10:11:24.481103Z"
    }
   },
   "outputs": [
    {
     "name": "stdout",
     "output_type": "stream",
     "text": [
      "DeepNN parameters: 6,251,904\n",
      "LightNN parameters: 92,660\n"
     ]
    }
   ],
   "source": [
    "\n",
    "total_params_deep = \"{:,}\".format(sum(p.numel() for p in nn_deep.parameters()))\n",
    "print(f\"DeepNN parameters: {total_params_deep}\")\n",
    "total_params_light = \"{:,}\".format(sum(p.numel() for p in new_nn_light.parameters()))\n",
    "print(f\"LightNN parameters: {total_params_light}\")"
   ]
  },
  {
   "cell_type": "code",
   "execution_count": 38,
   "metadata": {
    "execution": {
     "iopub.execute_input": "2024-04-22T10:11:27.581340Z",
     "iopub.status.busy": "2024-04-22T10:11:27.580992Z",
     "iopub.status.idle": "2024-04-22T10:11:27.591142Z",
     "shell.execute_reply": "2024-04-22T10:11:27.590204Z",
     "shell.execute_reply.started": "2024-04-22T10:11:27.581314Z"
    }
   },
   "outputs": [],
   "source": [
    "def train_knowledge_distillation(teacher, student, train_loader, epochs, learning_rate, T, soft_target_loss_weight, ce_loss_weight, device):\n",
    "    ce_loss = nn.CrossEntropyLoss()\n",
    "    optimizer = optim.AdamW(student.parameters(), lr=learning_rate)\n",
    "\n",
    "    teacher.eval()  # Teacher set to evaluation mode\n",
    "    student.train() # Student to train mode\n",
    "\n",
    "    for epoch in range(epochs):\n",
    "        running_loss = 0.0\n",
    "        for inputs, labels in train_loader:\n",
    "            inputs, labels = inputs.to(device), labels.to(device)\n",
    "\n",
    "            optimizer.zero_grad()\n",
    "\n",
    "            # Forward pass with the teacher model - do not save gradients here as we do not change the teacher's weights\n",
    "            with torch.no_grad():\n",
    "                teacher_logits = teacher(inputs)\n",
    "\n",
    "            # Forward pass with the student model\n",
    "            student_logits = student(inputs)\n",
    "\n",
    "            #Soften the student logits by applying softmax first and log() second\n",
    "            soft_targets = nn.functional.softmax(teacher_logits / T, dim=-1)\n",
    "            soft_prob = nn.functional.log_softmax(student_logits / T, dim=-1)\n",
    "\n",
    "            # Calculate the soft targets loss. Scaled by T**2 as suggested by the authors of the paper \"Distilling the knowledge in a neural network\"\n",
    "            soft_targets_loss = -torch.sum(soft_targets * soft_prob) / soft_prob.size()[0] * (T**2)\n",
    "\n",
    "            # Calculate the true label loss\n",
    "            label_loss = ce_loss(student_logits, labels)\n",
    "\n",
    "            # Weighted sum of the two losses\n",
    "            loss = soft_target_loss_weight * soft_targets_loss + ce_loss_weight * label_loss\n",
    "\n",
    "            loss.backward()\n",
    "            optimizer.step()\n",
    "\n",
    "            running_loss += loss.item()\n",
    "\n",
    "        print(f\"Epoch {epoch+1}/{epochs}, Loss: {running_loss / len(train_loader)}\")"
   ]
  },
  {
   "cell_type": "code",
   "execution_count": 39,
   "metadata": {
    "execution": {
     "iopub.execute_input": "2024-04-22T10:11:31.135827Z",
     "iopub.status.busy": "2024-04-22T10:11:31.135448Z",
     "iopub.status.idle": "2024-04-22T10:24:17.184173Z",
     "shell.execute_reply": "2024-04-22T10:24:17.183158Z",
     "shell.execute_reply.started": "2024-04-22T10:11:31.135797Z"
    }
   },
   "outputs": [
    {
     "name": "stdout",
     "output_type": "stream",
     "text": [
      "Epoch 1/1, Loss: 0.5788148712481971\n",
      "Test Accuracy: 71.81%\n",
      "Student accuracy with CE + KD: 71.81%\n"
     ]
    }
   ],
   "source": [
    "# Apply ``train_knowledge_distillation`` with a temperature of 2. Arbitrarily set the weights to 0.75 for CE and 0.25 for distillation loss.\n",
    "train_knowledge_distillation(teacher=nn_deep, student=new_nn_light, train_loader=train_loader, epochs=1, learning_rate=0.001, T=2, soft_target_loss_weight=0.25, ce_loss_weight=0.75, device=device)\n",
    "test_accuracy_light_ce_and_kd = test(new_nn_light, test_loader, device)\n",
    "\n",
    "# Compare the student test accuracy with and without the teacher, after distillation\n",
    "print(f\"Student accuracy with CE + KD: {test_accuracy_light_ce_and_kd:.2f}%\")\n",
    "     "
   ]
  },
  {
   "cell_type": "code",
   "execution_count": null,
   "metadata": {},
   "outputs": [],
   "source": [
    "torch.save(new_nn_light, '/kaggle/working/nn_kd_1.pth')"
   ]
  }
 ],
 "metadata": {
  "kaggle": {
   "accelerator": "nvidiaTeslaT4",
   "dataSources": [
    {
     "datasetId": 4711700,
     "sourceId": 8001127,
     "sourceType": "datasetVersion"
    },
    {
     "isSourceIdPinned": true,
     "modelInstanceId": 30190,
     "sourceId": 35860,
     "sourceType": "modelInstanceVersion"
    }
   ],
   "dockerImageVersionId": 30674,
   "isGpuEnabled": true,
   "isInternetEnabled": true,
   "language": "python",
   "sourceType": "notebook"
  },
  "kernelspec": {
   "display_name": "Python 3 (ipykernel)",
   "language": "python",
   "name": "python3"
  },
  "language_info": {
   "codemirror_mode": {
    "name": "ipython",
    "version": 3
   },
   "file_extension": ".py",
   "mimetype": "text/x-python",
   "name": "python",
   "nbconvert_exporter": "python",
   "pygments_lexer": "ipython3",
   "version": "3.10.7"
  }
 },
 "nbformat": 4,
 "nbformat_minor": 4
}
