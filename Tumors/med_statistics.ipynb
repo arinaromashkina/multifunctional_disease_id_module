{
  "cells": [
    {
      "cell_type": "code",
      "execution_count": 17,
      "id": "initial_id",
      "metadata": {
        "collapsed": true,
        "ExecuteTime": {
          "end_time": "2024-01-08T18:43:47.199054900Z",
          "start_time": "2024-01-08T18:43:47.112726300Z"
        },
        "id": "initial_id"
      },
      "outputs": [],
      "source": [
        "import seaborn as sns\n",
        "import numpy as np\n",
        "import pandas as pd\n",
        "import matplotlib.pyplot as plt\n",
        "import os\n",
        "\n",
        "import torch\n",
        "import glob\n",
        "import torch.nn as nn\n",
        "from torchvision.transforms import transforms\n",
        "from torch.utils.data import DataLoader\n",
        "from torch.optim import Adam\n",
        "from torch.autograd import Variable\n",
        "import torchvision\n",
        "import pathlib\n",
        "import torch\n",
        "import torch.nn as nn\n",
        "import seaborn as sns\n",
        "import numpy as np\n",
        "import pandas as pd\n",
        "import matplotlib.pyplot as plt\n",
        "import os\n",
        "import glob\n",
        "import torch.nn as nn\n",
        "from torchvision.transforms import transforms\n",
        "from torch.utils.data import DataLoader\n",
        "from torch.optim import AdamW\n",
        "from torch.autograd import Variable\n",
        "import torchvision\n",
        "import pathlib\n",
        "from sklearn.metrics import accuracy_score\n",
        "import matplotlib.pyplot as plt\n",
        "import numpy as np\n",
        "import torch\n",
        "import torchvision\n",
        "from IPython.display import clear_output\n",
        "from torch import nn, optim\n",
        "from torchvision import transforms\n",
        "from torchvision.datasets import ImageFolder\n",
        "import math\n",
        "\n",
        "from sklearn.metrics import accuracy_score\n",
        "\n",
        "import torch\n",
        "from torch.autograd import Variable\n",
        "from torch.nn import Linear, ReLU, CrossEntropyLoss, Sequential, Conv2d, MaxPool2d, Module, Softmax, BatchNorm2d, Dropout\n",
        "from torch.optim import Adam, SGD\n",
        "import warnings\n",
        "warnings.filterwarnings(\"ignore\")"
      ]
    },
    {
      "cell_type": "code",
      "execution_count": 19,
      "outputs": [],
      "source": [
        "\n",
        "train_path = ('/content/drive/MyDrive/data_folder/Training')\n",
        "test_path = ('/content/drive/MyDrive/data_folder/Testing')"
      ],
      "metadata": {
        "ExecuteTime": {
          "end_time": "2024-01-08T18:43:47.221889700Z",
          "start_time": "2024-01-08T18:43:47.181897800Z"
        },
        "id": "8c879abdf72e28b0"
      },
      "id": "8c879abdf72e28b0"
    },
    {
      "cell_type": "markdown",
      "source": [
        "# Новый раздел"
      ],
      "metadata": {
        "id": "ms2l6Vbh3Aat"
      },
      "id": "ms2l6Vbh3Aat"
    },
    {
      "cell_type": "code",
      "source": [
        "from google.colab import drive\n",
        "drive.mount('/content/drive/')"
      ],
      "metadata": {
        "colab": {
          "base_uri": "https://localhost:8080/"
        },
        "id": "ne9_l0NB3IoC",
        "outputId": "0b2da6b5-6f6a-4d2b-ec07-d0e6dce595f3"
      },
      "id": "ne9_l0NB3IoC",
      "execution_count": 3,
      "outputs": [
        {
          "output_type": "stream",
          "name": "stdout",
          "text": [
            "Mounted at /content/drive/\n"
          ]
        }
      ]
    },
    {
      "cell_type": "code",
      "source": [],
      "metadata": {
        "id": "0AxuX9y13WZe"
      },
      "id": "0AxuX9y13WZe",
      "execution_count": 3,
      "outputs": []
    },
    {
      "cell_type": "code",
      "execution_count": 20,
      "outputs": [],
      "source": [
        "transform = transforms.Compose([\n",
        "    transforms.Resize((224, 224)),\n",
        "    transforms.ToTensor(),\n",
        "    transforms.Normalize(mean=[0.485, 0.456, 0.406], std=[0.229, 0.224, 0.225])\n",
        "])"
      ],
      "metadata": {
        "ExecuteTime": {
          "end_time": "2024-01-08T18:43:47.707434400Z",
          "start_time": "2024-01-08T18:43:47.675434100Z"
        },
        "id": "6e5b063cd705bc77"
      },
      "id": "6e5b063cd705bc77"
    },
    {
      "cell_type": "code",
      "execution_count": 21,
      "outputs": [],
      "source": [
        "train_loader=DataLoader(\n",
        "    torchvision.datasets.ImageFolder(train_path,transform=transform),\n",
        "    batch_size=32, shuffle=True,\n",
        ")\n",
        "test_loader=DataLoader(\n",
        "    torchvision.datasets.ImageFolder(test_path,transform=transform),\n",
        "    batch_size=32, shuffle=True\n",
        ")"
      ],
      "metadata": {
        "ExecuteTime": {
          "end_time": "2024-01-08T18:43:48.276058500Z",
          "start_time": "2024-01-08T18:43:48.107534300Z"
        },
        "id": "7b5513ee60618748"
      },
      "id": "7b5513ee60618748"
    },
    {
      "cell_type": "code",
      "source": [
        "class ConvNet1(nn.Module):\n",
        "    def __init__(self, num_classes):\n",
        "        super(ConvNet1, self).__init__()\n",
        "        self.conv1 = nn.Sequential(\n",
        "            nn.Conv2d(in_channels=3, out_channels=8, kernel_size=3),\n",
        "            nn.ReLU(),\n",
        "\n",
        "            nn.MaxPool2d(kernel_size=2),\n",
        "        )\n",
        "        self.conv2 = nn.Sequential(\n",
        "            nn.Conv2d(in_channels=8, out_channels=16, kernel_size=3),\n",
        "            nn.BatchNorm2d(16),\n",
        "            nn.ReLU(),\n",
        "            nn.MaxPool2d(kernel_size=2)\n",
        "        )\n",
        "        self.conv3 = nn.Sequential(\n",
        "            nn.Conv2d(in_channels=16, out_channels=32, kernel_size=3),\n",
        "            nn.BatchNorm2d(32),\n",
        "            nn.ReLU(),\n",
        "            nn.MaxPool2d(kernel_size=2)\n",
        "        )\n",
        "        self.fc = nn.Linear(32*26*26, num_classes)\n",
        "        self.lsm = nn.LogSoftmax(dim=1)\n",
        "\n",
        "    def forward(self, x):\n",
        "        out = self.conv1(x)\n",
        "        out = self.conv2(out)\n",
        "        out = self.conv3(out)\n",
        "        out = out.view(x.size(0), -1)\n",
        "        out = self.fc(out)\n",
        "        out = self.lsm(out)\n",
        "        return out"
      ],
      "metadata": {
        "id": "HUAB6e06hR0_"
      },
      "id": "HUAB6e06hR0_",
      "execution_count": 22,
      "outputs": []
    },
    {
      "cell_type": "code",
      "source": [
        "scores_train = []\n",
        "scores_test = []\n",
        "bin_train_label = []\n",
        "bin_test_label = []"
      ],
      "metadata": {
        "id": "0PWzxMPxhdTK"
      },
      "id": "0PWzxMPxhdTK",
      "execution_count": 23,
      "outputs": []
    },
    {
      "cell_type": "code",
      "source": [
        "nn_light = ConvNet1(num_classes=4).to(device)\n",
        "nn_light.load_state_dict(torch.load('/content/drive/MyDrive/cnn_model.pth', map_location=torch.device('cpu')))"
      ],
      "metadata": {
        "colab": {
          "base_uri": "https://localhost:8080/"
        },
        "id": "H1HkDarIh6vY",
        "outputId": "ebdfbde8-06d8-4087-da58-bb6d24c681ca"
      },
      "id": "H1HkDarIh6vY",
      "execution_count": 24,
      "outputs": [
        {
          "output_type": "execute_result",
          "data": {
            "text/plain": [
              "<All keys matched successfully>"
            ]
          },
          "metadata": {},
          "execution_count": 24
        }
      ]
    },
    {
      "cell_type": "code",
      "source": [
        "def train(model, train_loader, epochs, learning_rate, device):\n",
        "    criterion = nn.CrossEntropyLoss()\n",
        "    optimizer = optim.AdamW(model.parameters(), lr=learning_rate)\n",
        "\n",
        "    model.train()\n",
        "    correct = 0\n",
        "    total = 0\n",
        "\n",
        "    for epoch in range(epochs):\n",
        "        running_loss = 0.0\n",
        "        for inputs, labels in train_loader:\n",
        "            # inputs: A collection of batch_size images\n",
        "            # labels: A vector of dimensionality batch_size with integers denoting class of each image\n",
        "            inputs, labels = inputs.to(device), labels.to(device)\n",
        "            optimizer.zero_grad()\n",
        "            outputs = model(inputs)\n",
        "            _, predicted = torch.max(outputs.data, 1)\n",
        "            total += labels.size(0)\n",
        "            correct += (predicted == labels).sum().item()\n",
        "            # outputs: Output of the network for the collection of images. A tensor of dimensionality batch_size x num_classes\n",
        "            if epoch == epochs-1:\n",
        "                for prob in outputs.data:\n",
        "                    scores_train.append(math.exp(prob[2]))\n",
        "                for lab in labels:\n",
        "                    if (lab == 2):\n",
        "                        bin_train_label.append(True)\n",
        "                    else:\n",
        "                        bin_train_label.append(False)\n",
        "            # labels: The actual labels of the images. Vector of dimensionality batch_size\n",
        "            loss = criterion(outputs, labels)\n",
        "            loss.backward()\n",
        "            optimizer.step()\n",
        "            running_loss += loss.item()\n",
        "\n",
        "        accuracy = 100 * correct / total\n",
        "        print(f\"Epoch {epoch+1}/{epochs}, Loss: {running_loss / len(train_loader)}, Train Accuracy: {accuracy:.2f}%\")\n",
        "\n",
        "def test(model, test_loader, device):\n",
        "    model.to(device)\n",
        "    model.eval()\n",
        "\n",
        "    correct = 0\n",
        "    total = 0\n",
        "\n",
        "    with torch.no_grad():\n",
        "        for inputs, labels in test_loader:\n",
        "            inputs, labels = inputs.to(device), labels.to(device)\n",
        "\n",
        "            outputs = model(inputs)\n",
        "            _, predicted = torch.max(outputs.data, 1)\n",
        "\n",
        "            total += labels.size(0)\n",
        "            correct += (predicted == labels).sum().item()\n",
        "            for prob in outputs.data:\n",
        "                scores_test.append(math.exp(prob[2]))\n",
        "            for lab in labels:\n",
        "                if (lab == 2):\n",
        "                    bin_test_label.append(True)\n",
        "                else:\n",
        "                    bin_test_label.append(False)\n",
        "\n",
        "    accuracy = 100 * correct / total\n",
        "    print(f\"Test Accuracy: {accuracy:.2f}%\")\n",
        "    return accuracy"
      ],
      "metadata": {
        "id": "PhZrCjqph9bf"
      },
      "id": "PhZrCjqph9bf",
      "execution_count": 25,
      "outputs": []
    },
    {
      "cell_type": "code",
      "source": [
        "train(nn_light, train_loader, epochs=2, learning_rate=0.001, device=device)\n",
        "test_accuracy_light = test(nn_light, test_loader, device)"
      ],
      "metadata": {
        "colab": {
          "base_uri": "https://localhost:8080/"
        },
        "id": "ey0HzJ58iGld",
        "outputId": "ed79727e-9f8c-4fef-f56b-b7835f9cca91"
      },
      "id": "ey0HzJ58iGld",
      "execution_count": 26,
      "outputs": [
        {
          "output_type": "stream",
          "name": "stdout",
          "text": [
            "Epoch 1/2, Loss: 0.0303885889678592, Train Accuracy: 98.75%\n",
            "Epoch 2/2, Loss: 0.04353145921551105, Train Accuracy: 98.68%\n",
            "Test Accuracy: 74.11%\n"
          ]
        }
      ]
    },
    {
      "cell_type": "code",
      "source": [
        "scores_test = np.log(scores_test)\n",
        "scores_train = np.log(scores_train)"
      ],
      "metadata": {
        "id": "HrF6d-BViOag"
      },
      "id": "HrF6d-BViOag",
      "execution_count": 27,
      "outputs": []
    },
    {
      "cell_type": "code",
      "source": [
        "from scipy.stats import binom\n",
        "from tqdm.notebook import tqdm\n",
        "from statsmodels.stats.multitest import multipletests\n",
        "from bisect import bisect\n",
        "import numpy as np\n",
        "import torch\n",
        "\n",
        "def hb_p_value(r_hat, n, alpha=0.1):\n",
        "    bentkus_p_value = np.e * binom.cdf(np.ceil(n * r_hat), n, alpha)\n",
        "    def h1(y,mu):\n",
        "        with np.errstate(divide='ignore'): return y * np.log(y/mu) + (1-y) * np.log((1-y)/(1-mu))\n",
        "\n",
        "    hoeffding_p_value = np.exp(-n * h1(min(r_hat, alpha), alpha))\n",
        "    return min(bentkus_p_value, hoeffding_p_value)\n",
        "\n",
        "\n",
        "def bonferroni(p_values,delta):\n",
        "    rejections, _, _, _ = multipletests(p_values,delta,method='holm',is_sorted=False,returnsorted=False)\n",
        "    print(rejections)\n",
        "    R = np.nonzero(rejections)[0]\n",
        "    return R\n",
        "\n",
        "# Procedure to calculate q-values with using p-value, true labels not used.\n",
        "def calculate_qvalues_from_pvalues(distribution, query, pi_0=0.9):\n",
        "    p_values = empirical_p_values(np.sort(distribution), query)\n",
        "    q_values = p_values*len(p_values)*pi_0\n",
        "    q_values = q_values/np.arange(1, len(p_values)+1)\n",
        "    for i in range(len(p_values)-1,0,-1):\n",
        "        q_values[i-1] = min(q_values[i-1], q_values[i])\n",
        "\n",
        "    return q_values\n",
        "\n",
        "def calculate_fdr(scores, labels):\n",
        "    scores_data = []\n",
        "    for i in range(len(scores)):\n",
        "        scores_data.append((scores[i], labels[i]))\n",
        "    scores_data.sort(key=lambda x: x[0])\n",
        "    sort_data = scores_data[::-1]\n",
        "    scores.sort()\n",
        "    scores = scores[::-1]\n",
        "    sorted_test_labels = []\n",
        "    for i in range(len(scores)):\n",
        "        sorted_test_labels.append(scores_data[i][1])\n",
        "\n",
        "    negative = 0\n",
        "    positive = 0\n",
        "    fdr = []\n",
        "#     for label in sorted_test_labels:\n",
        "#         negative += label == 0\n",
        "#         positive += label == 1\n",
        "#         fdr.append(negative / (negative+positive) )\n",
        "    for score in scores:\n",
        "        if score > np.log(0.5):\n",
        "            label = True\n",
        "        else:\n",
        "            label = False\n",
        "        negative += label == 0\n",
        "        positive += label == 1\n",
        "        fdr.append(negative / (negative+positive) )\n",
        "    return np.array(fdr)\n",
        "\n",
        "\n",
        "def calculate_qvalues_from_labels(scores, labels):\n",
        "    qvalue = calculate_fdr(scores, labels)\n",
        "    for i in range(len(qvalue)-1, 0, -1):\n",
        "        qvalue[i-1] = min(qvalue[i], qvalue[i-1])\n",
        "    return qvalue\n",
        "\n",
        "\n",
        "def empirical_p_values(distribution, query):\n",
        "    dist_len = len(distribution)\n",
        "    query_len = len(query)\n",
        "    p_values = np.zeros([query_len,])\n",
        "    for i, score in enumerate(query):\n",
        "        p_values[i] = (dist_len-bisect(distribution, score))/dist_len\n",
        "    return np.sort(p_values)\n",
        "\n",
        "import numpy as np\n",
        "\n",
        "def calculate_ltt(scores, bin_train_label, bin_test_label, right_board):\n",
        "    train_fdrs = calculate_fdr(scores['train'], bin_train_label)\n",
        "    lambdas = np.array(len(scores['train']) * np.linspace(0, 1., 300), dtype=int)[:-1]\n",
        "    r_hats = train_fdrs[lambdas]\n",
        "    plt_data = []\n",
        "    train_prob_scores = np.array(scores['train'])\n",
        "    test_prob_scores = np.array(scores['test'])\n",
        "    for alpha in tqdm(np.linspace(0.001, right_board, 100)):\n",
        "        pvalues = np.array([hb_p_value(r_hat, len(scores['train']), alpha=alpha) for r_hat in r_hats])\n",
        "        print(pvalues)\n",
        "        chosen = lambdas[bonferroni(pvalues, 0.15)] / len(bin_train_label) * len(bin_test_label)\n",
        "        chosen_score = np.sort(train_prob_scores)[::-1][lambdas[bonferroni(pvalues, 0.5)][-1]]\n",
        "        idx_score = np.sum(test_prob_scores > chosen_score)\n",
        "        idx = int(chosen[-1])\n",
        "        plt_data.append((idx, idx_score, alpha))\n",
        "    return plt_data\n"
      ],
      "metadata": {
        "id": "VPmDS2tWidyA"
      },
      "id": "VPmDS2tWidyA",
      "execution_count": 28,
      "outputs": []
    },
    {
      "cell_type": "code",
      "source": [
        "scores = {'train': np.array(scores_train), 'test': np.array(scores_test)}\n",
        "bin_train_label = np.array(bin_train_label)\n",
        "bin_test_label = np.array(bin_test_label)\n",
        "\n",
        "train_score_neg = scores_train[bin_train_label == 0]\n",
        "test_score_neg = scores_test[bin_test_label == 0]\n",
        "train_score_pos = scores_train[bin_train_label != 0]\n",
        "test_score_pos = scores_test[bin_test_label != 0]"
      ],
      "metadata": {
        "id": "DdtqgmGaigzD"
      },
      "id": "DdtqgmGaigzD",
      "execution_count": 29,
      "outputs": []
    },
    {
      "cell_type": "code",
      "source": [
        "qvalues_epv = calculate_qvalues_from_pvalues(train_score_neg, scores['test'])\n",
        "qvalues_true = calculate_qvalues_from_labels(scores['test'], bin_test_label)"
      ],
      "metadata": {
        "id": "OgsDvu-ZikNs"
      },
      "id": "OgsDvu-ZikNs",
      "execution_count": 30,
      "outputs": []
    },
    {
      "cell_type": "code",
      "source": [
        "plt.plot(qvalues_epv, np.arange(len(qvalues_epv)), 'r--', label='EPV, BH', markeredgewidth=10)\n",
        "plt.plot(qvalues_true, np.arange(len(qvalues_true)), color='black', label='ground truth')\n",
        "plt.legend()\n",
        "plt.show()"
      ],
      "metadata": {
        "colab": {
          "base_uri": "https://localhost:8080/",
          "height": 430
        },
        "id": "RlZrhILeip9i",
        "outputId": "4f4e7358-4f9e-4169-948b-22e03c91b180"
      },
      "id": "RlZrhILeip9i",
      "execution_count": 33,
      "outputs": [
        {
          "output_type": "display_data",
          "data": {
            "text/plain": [
              "<Figure size 640x480 with 1 Axes>"
            ],
            "image/png": "[encoded data removed]"
          },
          "metadata": {}
        }
      ]
    },
    {
      "cell_type": "code",
      "source": [],
      "metadata": {
        "id": "OGExZVfZj8bg"
      },
      "id": "OGExZVfZj8bg",
      "execution_count": null,
      "outputs": []
    }
  ],
  "metadata": {
    "kernelspec": {
      "display_name": "Python 3",
      "name": "python3"
    },
    "language_info": {
      "codemirror_mode": {
        "name": "ipython",
        "version": 2
      },
      "file_extension": ".py",
      "mimetype": "text/x-python",
      "name": "python",
      "nbconvert_exporter": "python",
      "pygments_lexer": "ipython2",
      "version": "2.7.6"
    },
    "colab": {
      "provenance": [],
      "gpuType": "T4"
    },
    "accelerator": "GPU"
  },
  "nbformat": 4,
  "nbformat_minor": 5
}